{
 "cells": [
  {
   "cell_type": "code",
   "execution_count": 9,
   "metadata": {
    "scrolled": true
   },
   "outputs": [],
   "source": [
    "import json\n",
    "import tweepy\n",
    "import time\n",
    "import config_twit\n",
    "\n",
    "import pandas as pd\n",
    "import numpy as np\n",
    "import datetime\n",
    "import csv\n",
    "from geopy.geocoders import Nominatim\n",
    "geolocator = Nominatim(user_agent=\"specify_your_app_name_here\")"
   ]
  },
  {
   "cell_type": "code",
   "execution_count": 10,
   "metadata": {
    "collapsed": true
   },
   "outputs": [],
   "source": [
    "timestr = time.strftime(\"%Y%m%d-%H%M%S\")\n",
    "query = '#kathua OR \"kathua\" AND \"rape\"'\n",
    "max_tweets = 2000"
   ]
  },
  {
   "cell_type": "code",
   "execution_count": 11,
   "metadata": {
    "collapsed": true
   },
   "outputs": [],
   "source": [
    "# Enter your keys/secrets as strings in the following fields. config_twit is a .py file that contains \n",
    "# my twitter api auth codes \n",
    "\n",
    "API_KEY = config_twit.api_key\n",
    "API_SECRET = config_twit.api_secret\n",
    "ACCESS_TOKEN = config_twit.ACCESS_TOKEN\n",
    "ACCESS_TOKEN_SECRET = config_twit.ACCESS_TOKEN_SECRET\n",
    "\n",
    "# assuming twitter_authentication.py contains each of the 4 oauth elements (1 per line)\n",
    "\n",
    "auth = tweepy.OAuthHandler(API_KEY, API_SECRET)\n",
    "auth.set_access_token(ACCESS_TOKEN, ACCESS_TOKEN_SECRET)\n",
    "\n",
    "api = tweepy.API(auth)"
   ]
  },
  {
   "cell_type": "code",
   "execution_count": 12,
   "metadata": {},
   "outputs": [],
   "source": [
    "# extract data from tweets that match search terms \n",
    "\n",
    "searched_tweets = [status for status in tweepy.Cursor(api.search, wait_on_rate_limit=True,                                        wait_on_rate_limit_notify=True, \n",
    "since='2018-08-05', until='2018-08-06', q=query).items(max_tweets)]\n"
   ]
  },
  {
   "cell_type": "markdown",
   "metadata": {},
   "source": [
    "> Network data"
   ]
  },
  {
   "cell_type": "code",
   "execution_count": 13,
   "metadata": {
    "collapsed": true
   },
   "outputs": [],
   "source": [
    "# df to parse data into network graph - here make df for convenience but later could have lists\n",
    "tweet_id = [s.id for s in searched_tweets]\n",
    "user_id = [s.user.id for s in searched_tweets]\n",
    "screen_name = [s.user.screen_name for s in searched_tweets]\n",
    "followers = [s.user.followers_count for s in searched_tweets]\n",
    "retweet_count = [s.retweet_count for s in searched_tweets]\n",
    "locations = [s.user.location for s in searched_tweets]\n",
    "\n",
    "df = pd.DataFrame({'tweet_id':tweet_id, 'screen_name':screen_name, 'source':user_id, 'followers':followers, 'locations':locations})\n",
    "most_followed_tweeters = df.sort_values(by='followers', ascending=False).head(20).drop_duplicates(subset='screen_name')\n",
    "most_followed_tweets = zip(most_followed_tweeters.tweet_id, most_followed_tweeters.screen_name, \n",
    "                           most_followed_tweeters.followers)\n"
   ]
  },
  {
   "cell_type": "markdown",
   "metadata": {},
   "source": [
    "> Links list"
   ]
  },
  {
   "cell_type": "code",
   "execution_count": 14,
   "metadata": {
    "collapsed": true
   },
   "outputs": [],
   "source": [
    "# make links list: get retweet list of each tweet\n",
    "\n",
    "api = tweepy.API(auth, wait_on_rate_limit=True, wait_on_rate_limit_notify=True, compression=True)\n",
    "\n",
    "users_retweeted_dict ={}\n",
    "\n",
    "retweet_lst_names=[]\n",
    "retweet_lst_user_ids =[]\n",
    "for status_id, user_id, followers in most_followed_tweets:\n",
    "    \n",
    "    retweet_lst=[]\n",
    "    retweet_lst_name =[]\n",
    "    retweet_lst_user_id =[]\n",
    "    \n",
    "    for retweet_id in api.retweets(status_id):\n",
    "        retweet_lst.append(retweet_id.user.id)\n",
    "        retweet_lst_name.append(retweet_id.user.name)\n",
    "        retweet_lst_user_id.append(retweet_id.user.id)\n",
    "    \n",
    "    users_retweeted_dict[user_id] = retweet_lst_name\n",
    "    retweet_lst_names.append(retweet_lst_name)\n",
    "    retweet_lst_user_ids.append(retweet_lst_user_id)\n",
    "    \n",
    "# flatten list of retweet lists of names and ids for comilation below\n",
    "retweet_lst_names = [j for i in retweet_lst_names for j in i]\n",
    "retweet_lst_ids_flat = [j for i in retweet_lst_user_ids for j in i]  "
   ]
  },
  {
   "cell_type": "code",
   "execution_count": 15,
   "metadata": {},
   "outputs": [
    {
     "data": {
      "text/plain": [
       "131"
      ]
     },
     "execution_count": 15,
     "metadata": {},
     "output_type": "execute_result"
    }
   ],
   "source": [
    "len(retweet_lst_names)"
   ]
  },
  {
   "cell_type": "code",
   "execution_count": 16,
   "metadata": {
    "collapsed": true
   },
   "outputs": [],
   "source": [
    "# then replace tweet id with index number\n",
    "\n",
    "links_lst=[]\n",
    "for k in users_retweeted_dict:\n",
    "    if users_retweeted_dict[k]:\n",
    "        for u in users_retweeted_dict[k]:\n",
    "            links_lst.append({\"source\":k,\"target\":u})\n"
   ]
  },
  {
   "cell_type": "code",
   "execution_count": 17,
   "metadata": {
    "collapsed": true
   },
   "outputs": [],
   "source": [
    "# normalize original tweeters for \n",
    "mft = most_followed_tweeters.followers\n",
    "normalized_followers = np.round((np.abs(np.array(mft)-np.array(mft).mean())/mft.std())*10, 0)"
   ]
  },
  {
   "cell_type": "code",
   "execution_count": 18,
   "metadata": {
    "collapsed": true
   },
   "outputs": [],
   "source": [
    "# put all elements in link list together\n",
    "\n",
    "count=0\n",
    "count1=0\n",
    "links_r =[]\n",
    "for k,v in users_retweeted_dict.items():\n",
    "    for y,t in zip(most_followed_tweeters.screen_name, normalized_followers ):\n",
    "        if y == k:\n",
    "            value = t\n",
    "    for i in v:\n",
    "        links_r.append({\"source\":k, \"target\": i, \"value\": int(value)})\n",
    "        "
   ]
  },
  {
   "cell_type": "markdown",
   "metadata": {},
   "source": [
    ">Node list"
   ]
  },
  {
   "cell_type": "code",
   "execution_count": 23,
   "metadata": {
    "collapsed": true
   },
   "outputs": [],
   "source": [
    "# node: make \"group\" from location\n",
    "\n",
    "location_india =[]\n",
    "for i in most_followed_tweeters.locations:\n",
    "    if 'India' or 'New Delhi' in i:\n",
    "        location_india.append(1)\n",
    "    else:\n",
    "        location_india.append(0)\n",
    "# "
   ]
  },
  {
   "cell_type": "code",
   "execution_count": 20,
   "metadata": {
    "collapsed": true
   },
   "outputs": [],
   "source": [
    "# get followers counts of retweeters\n",
    "\n",
    "api = tweepy.API(auth, wait_on_rate_limit=True, wait_on_rate_limit_notify=True, compression=True)\n",
    "\n",
    "retweet_fol = []\n",
    "for re_tweet_id in retweet_lst_ids_flat:\n",
    "    user = api.get_user(re_tweet_id)\n",
    "    retweet_fol.append(user.followers_count)\n"
   ]
  },
  {
   "cell_type": "code",
   "execution_count": 25,
   "metadata": {},
   "outputs": [],
   "source": [
    "df = pd.DataFrame({'retweeter_id':retweet_lst_ids_flat,'retweeter_follower_count':retweet_fol})\n"
   ]
  },
  {
   "cell_type": "code",
   "execution_count": 50,
   "metadata": {},
   "outputs": [
    {
     "data": {
      "text/plain": [
       "131"
      ]
     },
     "execution_count": 50,
     "metadata": {},
     "output_type": "execute_result"
    }
   ],
   "source": [
    "normalized_retweet_count = (np.round((np.abs(np.array(retweet_fol\n",
    ")-np.array(mft\n",
    ").mean()-100)/np.array(mft)\n",
    ".std())*10, 0))\n",
    "len(normalized_retweet_count)"
   ]
  },
  {
   "cell_type": "code",
   "execution_count": 51,
   "metadata": {},
   "outputs": [
    {
     "data": {
      "text/plain": [
       "array([ 5.,  5.,  5.,  5.,  5.,  5.,  5.,  5.,  5.,  5.,  5.,  5.,  5.,\n",
       "        5.,  5.,  5.,  5.,  5.,  5.,  5.,  5.,  5.,  5.,  5.,  5.,  5.,\n",
       "        5.,  5.,  5.,  5.,  5.,  5.,  5.,  5.,  5.,  5.,  5.,  5.,  5.,\n",
       "        5.,  5.,  5.,  5.,  5.,  5.,  5.,  5.,  5.,  5.,  5.,  5.,  5.,\n",
       "        5.,  5.,  5.,  5.,  5.,  5.,  5.,  5.,  5.,  5.,  5.,  5.,  5.,\n",
       "        5.,  5.,  5.,  5.,  5.,  5.,  5.,  5.,  5.,  5.,  5.,  5.,  5.,\n",
       "        5.,  5.,  5.,  5.,  5.,  5.,  5.,  5.,  5.,  5.,  5.,  5.,  5.,\n",
       "        5.,  5.,  5.,  5.,  5.,  5.,  5.,  5.,  5.,  5.,  5.,  5.,  5.,\n",
       "        5.,  5.,  5.,  5.,  5.,  5.,  5.,  5.,  5.,  5.,  5.,  5.,  5.,\n",
       "        5.,  5.,  5.,  5.,  5.,  5.,  5.,  5.,  5.,  5.,  5.,  5.,  5.,  5.])"
      ]
     },
     "execution_count": 51,
     "metadata": {},
     "output_type": "execute_result"
    }
   ],
   "source": [
    "normalized_retweet_count"
   ]
  },
  {
   "cell_type": "code",
   "execution_count": 38,
   "metadata": {},
   "outputs": [
    {
     "data": {
      "text/plain": [
       "['Indian Advocate',\n",
       " 'Muhammad Ashraf',\n",
       " 'sahil shabir',\n",
       " 'Akhil Raghav',\n",
       " 'yogendra',\n",
       " 'Sushipra Nath Tripathi',\n",
       " 'Shahid Ali',\n",
       " 'Mohit',\n",
       " 'Shamsu jama',\n",
       " 'Liberador',\n",
       " 'hindihainhum',\n",
       " 'Vidhu Mishra',\n",
       " 'TheWALLS',\n",
       " 'Malik DDL',\n",
       " 'Arish',\n",
       " 'Zahir Khan🇮🇳',\n",
       " 'Sharad Pandey',\n",
       " 'Rajeshwar Bal',\n",
       " 'Abdul haye',\n",
       " 'chengal reddygari Harinath reddy',\n",
       " 'Mazhar Ahmad',\n",
       " 'Narinder Happa.(नरेन्द्र हप्पा)',\n",
       " 'राष्ट्रय सुलभ शौचालय (RSS) ⛺️⛺️',\n",
       " 'ॐ Dibakar 卐 🇮🇳',\n",
       " 'sahil shabir',\n",
       " 'Mirza Hyderabad',\n",
       " 'Mubashir',\n",
       " 'R G P',\n",
       " 'Waldemarr Whosane',\n",
       " 'Vasant Nargund',\n",
       " 'Nishwini Reddy',\n",
       " 'سارس جوش',\n",
       " 'सीधी बात',\n",
       " 'Pammi Singh',\n",
       " 'Anil Dikshit',\n",
       " 'Ani Helen',\n",
       " 'Subhankar Biswas',\n",
       " 'Aryu',\n",
       " 'waseem',\n",
       " 'Shivalika Sharma',\n",
       " 'SPARTAN 🐺',\n",
       " 'Javaid Trali',\n",
       " 'Rafqat Sonwaire⏺',\n",
       " 'eahamads',\n",
       " 'satyendra',\n",
       " 'Rajiv Prinja',\n",
       " 'Lt Cdr S K Sharma',\n",
       " 'Taleef Alam',\n",
       " 'zia ul',\n",
       " 'Anamika',\n",
       " 'Owais Ahmad',\n",
       " 'Narendra K Varma',\n",
       " 'Kumail Ansari',\n",
       " 'aysha jyoti',\n",
       " 'Be A Human!',\n",
       " 'Dheerendra Pratap Singh Rathore',\n",
       " 'राष्ट्र सर्वोपरि (निष्पक्ष पत्रकार)',\n",
       " 'YASH SAGAR',\n",
       " 'Vineet Gautam',\n",
       " '📷!satish_navale_photographer_!📷',\n",
       " 'Mahesh Mishra',\n",
       " 'Mohammad Ayyub',\n",
       " 'Ankit Poswal',\n",
       " '🐦✍राष्ट्रवादी कलम से☠ 🐦',\n",
       " 'Tariq Rameez',\n",
       " 'Sab Maya Hai',\n",
       " 'बेवाक आवाज',\n",
       " 'Fake News',\n",
       " 'Krishna Rai',\n",
       " 'Suman',\n",
       " 'Adv.Anil Thakur',\n",
       " 'SKSingh',\n",
       " 'Dr.Satveer Chandravanshi',\n",
       " 'VIJIYA CHOUHAN',\n",
       " 'Atifhusain',\n",
       " 'अभिजीत कुमार',\n",
       " 'mRiDuAL',\n",
       " 'Arshad Khan',\n",
       " 'Mohd Imran Khan',\n",
       " 'Tehseen',\n",
       " 'ʍɑղօյ ѕωєєтυρяαιту🌷',\n",
       " 'सीधी बात',\n",
       " 'G10so',\n",
       " 'Mk',\n",
       " 'Anil Dikshit',\n",
       " 'ಕನ್ನಡವೇ ಸತ್ಯ ವಂದೇ ಮಾತರಂ',\n",
       " 'Amit (TROLL)😁',\n",
       " 'K.Victor',\n",
       " 'javed khan',\n",
       " '▪️A3D▪️',\n",
       " 'Parth Parikh',\n",
       " 'Express',\n",
       " 'Manish Mishra',\n",
       " 'The Birdhouse',\n",
       " 'Vikas',\n",
       " 'gab.ai/IamtheOne 🆒️🆓️🆙️',\n",
       " 'Karan Saraswat',\n",
       " 'Dharmesh Pancholi',\n",
       " 'Golu Karn',\n",
       " 'sanjay chopra',\n",
       " 'Mayank Uniyal',\n",
       " 'Ravi Shankar',\n",
       " 'Baahubali Pragnik',\n",
       " 'Amit Rana',\n",
       " 'Arun Mishra',\n",
       " 'Sanjiv Das',\n",
       " 'Miscellaneous bull',\n",
       " 'pacman',\n",
       " \"Sara'D\",\n",
       " 'Taqui Abedi',\n",
       " 'Dr.Satveer Chandravanshi',\n",
       " 'दीपक शर्मा(अधिवक्ता)',\n",
       " 'Brajesh Kumar Singh',\n",
       " 'MURUGANN C',\n",
       " 'INVERSE THINKER',\n",
       " 'Bremsstrahlung',\n",
       " 'bilal motorwala',\n",
       " 'Kausar reza',\n",
       " 'George Kurian',\n",
       " 'RANA G🌷',\n",
       " 'Darayas Rustom Irani',\n",
       " 'Aman Yadav',\n",
       " 'ami#withRG#INC🇮🇳',\n",
       " 'Albert Varghese Rajan',\n",
       " 'Neeraj',\n",
       " 'Manjeet Kaur',\n",
       " 'HUSNA  SK',\n",
       " 'Taskeen Biradar',\n",
       " 'Amir Pathan',\n",
       " 'Tanveer shaikh⏺️',\n",
       " 'Team Rahul Gandhi']"
      ]
     },
     "execution_count": 38,
     "metadata": {},
     "output_type": "execute_result"
    }
   ],
   "source": [
    "retweet_lst_names"
   ]
  },
  {
   "cell_type": "code",
   "execution_count": 39,
   "metadata": {
    "collapsed": true
   },
   "outputs": [],
   "source": [
    "# make nodes lst\n",
    "\n",
    "nodes_lst = []\n",
    "for x,y,z,aa in zip(most_followed_tweeters.screen_name, location_india, normalized_followers, most_followed_tweeters.followers):\n",
    "     nodes_lst.append({\"id\":x, \"group\":y, \"value\":int(z), \"followers\":int(aa)})\n",
    "\n",
    "for x,y,z in zip(retweet_lst_names,normalized_retweet_count, retweet_fol):\n",
    "     nodes_lst.append({\"id\":str(x), \"group\":2, \"value\":int(y), \"followers\":int(z)})\n",
    "\n"
   ]
  },
  {
   "cell_type": "code",
   "execution_count": 40,
   "metadata": {},
   "outputs": [
    {
     "data": {
      "text/plain": [
       "[{'followers': 10820309, 'group': 1, 'id': 'ndtv', 'value': 33},\n",
       " {'followers': 6457758, 'group': 1, 'id': 'htTweets', 'value': 18},\n",
       " {'followers': 3959323, 'group': 1, 'id': 'CNNnews18', 'value': 9},\n",
       " {'followers': 1963299, 'group': 1, 'id': 'firstpost', 'value': 2},\n",
       " {'followers': 1892056, 'group': 1, 'id': 'dna', 'value': 1},\n",
       " {'followers': 851770, 'group': 1, 'id': 'News18India', 'value': 2},\n",
       " {'followers': 689271, 'group': 1, 'id': 'NavbharatTimes', 'value': 3},\n",
       " {'followers': 539818, 'group': 1, 'id': 'NewsX', 'value': 3},\n",
       " {'followers': 343672, 'group': 1, 'id': 'NewIndianXpress', 'value': 4},\n",
       " {'followers': 217858, 'group': 1, 'id': 'TheQuint', 'value': 5},\n",
       " {'followers': 101769, 'group': 1, 'id': 'MyAnandaBazar', 'value': 5},\n",
       " {'followers': 93421, 'group': 1, 'id': 'Zaidu003', 'value': 5},\n",
       " {'followers': 85398, 'group': 1, 'id': 'OpIndia_com', 'value': 5},\n",
       " {'followers': 55175, 'group': 1, 'id': 'DeccanChronicle', 'value': 5},\n",
       " {'followers': 53985, 'group': 1, 'id': 'satishchoubey7', 'value': 5},\n",
       " {'followers': 50700, 'group': 1, 'id': 'HindiNews18', 'value': 5},\n",
       " {'followers': 49905, 'group': 1, 'id': 'alamgirizvi', 'value': 5},\n",
       " {'followers': 42775, 'group': 1, 'id': 'JasumatiPatel', 'value': 5},\n",
       " {'followers': 41291, 'group': 1, 'id': 'GeorgekurianINC', 'value': 5},\n",
       " {'followers': 400, 'group': 2, 'id': 'Indian Advocate', 'value': 3857},\n",
       " {'followers': 2, 'group': 2, 'id': 'Muhammad Ashraf', 'value': 3858},\n",
       " {'followers': 138, 'group': 2, 'id': 'sahil shabir', 'value': 3858},\n",
       " {'followers': 135, 'group': 2, 'id': 'Akhil Raghav', 'value': 3858},\n",
       " {'followers': 40, 'group': 2, 'id': 'yogendra', 'value': 3858},\n",
       " {'followers': 85, 'group': 2, 'id': 'Sushipra Nath Tripathi', 'value': 3858},\n",
       " {'followers': 131, 'group': 2, 'id': 'Shahid Ali', 'value': 3858},\n",
       " {'followers': 275, 'group': 2, 'id': 'Mohit', 'value': 3857},\n",
       " {'followers': 45, 'group': 2, 'id': 'Shamsu jama', 'value': 3858},\n",
       " {'followers': 24, 'group': 2, 'id': 'Liberador', 'value': 3858},\n",
       " {'followers': 456, 'group': 2, 'id': 'hindihainhum', 'value': 3857},\n",
       " {'followers': 8, 'group': 2, 'id': 'Vidhu Mishra', 'value': 3858},\n",
       " {'followers': 53, 'group': 2, 'id': 'TheWALLS', 'value': 3858},\n",
       " {'followers': 1318, 'group': 2, 'id': 'Malik DDL', 'value': 3855},\n",
       " {'followers': 56, 'group': 2, 'id': 'Arish', 'value': 3858},\n",
       " {'followers': 1041, 'group': 2, 'id': 'Zahir Khan🇮🇳', 'value': 3855},\n",
       " {'followers': 105, 'group': 2, 'id': 'Sharad Pandey', 'value': 3858},\n",
       " {'followers': 280, 'group': 2, 'id': 'Rajeshwar Bal', 'value': 3857},\n",
       " {'followers': 196, 'group': 2, 'id': 'Abdul haye', 'value': 3857},\n",
       " {'followers': 14,\n",
       "  'group': 2,\n",
       "  'id': 'chengal reddygari Harinath reddy',\n",
       "  'value': 3858},\n",
       " {'followers': 4, 'group': 2, 'id': 'Mazhar Ahmad', 'value': 3858},\n",
       " {'followers': 1084,\n",
       "  'group': 2,\n",
       "  'id': 'Narinder Happa.(नरेन्द्र हप्पा)',\n",
       "  'value': 3855},\n",
       " {'followers': 194,\n",
       "  'group': 2,\n",
       "  'id': 'राष्ट्रय सुलभ शौचालय (RSS) ⛺️⛺️',\n",
       "  'value': 3857},\n",
       " {'followers': 500, 'group': 2, 'id': 'ॐ Dibakar 卐 🇮🇳', 'value': 3857},\n",
       " {'followers': 138, 'group': 2, 'id': 'sahil shabir', 'value': 3858},\n",
       " {'followers': 1512, 'group': 2, 'id': 'Mirza Hyderabad', 'value': 3854},\n",
       " {'followers': 8482, 'group': 2, 'id': 'Mubashir', 'value': 3836},\n",
       " {'followers': 1389, 'group': 2, 'id': 'R G P', 'value': 3854},\n",
       " {'followers': 157, 'group': 2, 'id': 'Waldemarr Whosane', 'value': 3858},\n",
       " {'followers': 148, 'group': 2, 'id': 'Vasant Nargund', 'value': 3858},\n",
       " {'followers': 90, 'group': 2, 'id': 'Nishwini Reddy', 'value': 3858},\n",
       " {'followers': 336, 'group': 2, 'id': 'سارس جوش', 'value': 3857},\n",
       " {'followers': 28, 'group': 2, 'id': 'सीधी बात', 'value': 3858},\n",
       " {'followers': 219, 'group': 2, 'id': 'Pammi Singh', 'value': 3857},\n",
       " {'followers': 669, 'group': 2, 'id': 'Anil Dikshit', 'value': 3856},\n",
       " {'followers': 43, 'group': 2, 'id': 'Ani Helen', 'value': 3858},\n",
       " {'followers': 268, 'group': 2, 'id': 'Subhankar Biswas', 'value': 3857},\n",
       " {'followers': 67, 'group': 2, 'id': 'Aryu', 'value': 3858},\n",
       " {'followers': 514, 'group': 2, 'id': 'waseem', 'value': 3857},\n",
       " {'followers': 105, 'group': 2, 'id': 'Shivalika Sharma', 'value': 3858},\n",
       " {'followers': 87, 'group': 2, 'id': 'SPARTAN 🐺', 'value': 3858},\n",
       " {'followers': 4491, 'group': 2, 'id': 'Javaid Trali', 'value': 3846},\n",
       " {'followers': 822, 'group': 2, 'id': 'Rafqat Sonwaire⏺', 'value': 3856},\n",
       " {'followers': 37, 'group': 2, 'id': 'eahamads', 'value': 3858},\n",
       " {'followers': 288, 'group': 2, 'id': 'satyendra', 'value': 3857},\n",
       " {'followers': 103, 'group': 2, 'id': 'Rajiv Prinja', 'value': 3858},\n",
       " {'followers': 7091, 'group': 2, 'id': 'Lt Cdr S K Sharma', 'value': 3840},\n",
       " {'followers': 58, 'group': 2, 'id': 'Taleef Alam', 'value': 3858},\n",
       " {'followers': 408, 'group': 2, 'id': 'zia ul', 'value': 3857},\n",
       " {'followers': 419, 'group': 2, 'id': 'Anamika', 'value': 3857},\n",
       " {'followers': 260, 'group': 2, 'id': 'Owais Ahmad', 'value': 3857},\n",
       " {'followers': 1069, 'group': 2, 'id': 'Narendra K Varma', 'value': 3855},\n",
       " {'followers': 531, 'group': 2, 'id': 'Kumail Ansari', 'value': 3857},\n",
       " {'followers': 167, 'group': 2, 'id': 'aysha jyoti', 'value': 3858},\n",
       " {'followers': 223, 'group': 2, 'id': 'Be A Human!', 'value': 3857},\n",
       " {'followers': 110,\n",
       "  'group': 2,\n",
       "  'id': 'Dheerendra Pratap Singh Rathore',\n",
       "  'value': 3858},\n",
       " {'followers': 354,\n",
       "  'group': 2,\n",
       "  'id': 'राष्ट्र सर्वोपरि (निष्पक्ष पत्रकार)',\n",
       "  'value': 3857},\n",
       " {'followers': 141, 'group': 2, 'id': 'YASH SAGAR', 'value': 3858},\n",
       " {'followers': 1192, 'group': 2, 'id': 'Vineet Gautam', 'value': 3855},\n",
       " {'followers': 56,\n",
       "  'group': 2,\n",
       "  'id': '📷!satish_navale_photographer_!📷',\n",
       "  'value': 3858},\n",
       " {'followers': 442, 'group': 2, 'id': 'Mahesh Mishra', 'value': 3857},\n",
       " {'followers': 6, 'group': 2, 'id': 'Mohammad Ayyub', 'value': 3858},\n",
       " {'followers': 51, 'group': 2, 'id': 'Ankit Poswal', 'value': 3858},\n",
       " {'followers': 557,\n",
       "  'group': 2,\n",
       "  'id': '🐦✍राष्ट्रवादी कलम से☠ 🐦',\n",
       "  'value': 3857},\n",
       " {'followers': 11, 'group': 2, 'id': 'Tariq Rameez', 'value': 3858},\n",
       " {'followers': 373, 'group': 2, 'id': 'Sab Maya Hai', 'value': 3857},\n",
       " {'followers': 158, 'group': 2, 'id': 'बेवाक आवाज', 'value': 3858},\n",
       " {'followers': 266, 'group': 2, 'id': 'Fake News', 'value': 3857},\n",
       " {'followers': 730, 'group': 2, 'id': 'Krishna Rai', 'value': 3856},\n",
       " {'followers': 29, 'group': 2, 'id': 'Suman', 'value': 3858},\n",
       " {'followers': 3130, 'group': 2, 'id': 'Adv.Anil Thakur', 'value': 3850},\n",
       " {'followers': 159, 'group': 2, 'id': 'SKSingh', 'value': 3858},\n",
       " {'followers': 137,\n",
       "  'group': 2,\n",
       "  'id': 'Dr.Satveer Chandravanshi',\n",
       "  'value': 3858},\n",
       " {'followers': 32, 'group': 2, 'id': 'VIJIYA CHOUHAN', 'value': 3858},\n",
       " {'followers': 35, 'group': 2, 'id': 'Atifhusain', 'value': 3858},\n",
       " {'followers': 31, 'group': 2, 'id': 'अभिजीत कुमार', 'value': 3858},\n",
       " {'followers': 278, 'group': 2, 'id': 'mRiDuAL', 'value': 3857},\n",
       " {'followers': 26, 'group': 2, 'id': 'Arshad Khan', 'value': 3858},\n",
       " {'followers': 779, 'group': 2, 'id': 'Mohd Imran Khan', 'value': 3856},\n",
       " {'followers': 421, 'group': 2, 'id': 'Tehseen', 'value': 3857},\n",
       " {'followers': 1186, 'group': 2, 'id': 'ʍɑղօյ ѕωєєтυρяαιту🌷', 'value': 3855},\n",
       " {'followers': 28, 'group': 2, 'id': 'सीधी बात', 'value': 3858},\n",
       " {'followers': 36, 'group': 2, 'id': 'G10so', 'value': 3858},\n",
       " {'followers': 258, 'group': 2, 'id': 'Mk', 'value': 3857},\n",
       " {'followers': 669, 'group': 2, 'id': 'Anil Dikshit', 'value': 3856},\n",
       " {'followers': 1128,\n",
       "  'group': 2,\n",
       "  'id': 'ಕನ್ನಡವೇ ಸತ್ಯ ವಂದೇ ಮಾತರಂ',\n",
       "  'value': 3855},\n",
       " {'followers': 1009, 'group': 2, 'id': 'Amit (TROLL)😁', 'value': 3855},\n",
       " {'followers': 36, 'group': 2, 'id': 'K.Victor', 'value': 3858},\n",
       " {'followers': 1452, 'group': 2, 'id': 'javed khan', 'value': 3854},\n",
       " {'followers': 1841, 'group': 2, 'id': '▪️A3D▪️', 'value': 3853},\n",
       " {'followers': 2568, 'group': 2, 'id': 'Parth Parikh', 'value': 3851},\n",
       " {'followers': 42, 'group': 2, 'id': 'Express', 'value': 3858},\n",
       " {'followers': 1026, 'group': 2, 'id': 'Manish Mishra', 'value': 3855},\n",
       " {'followers': 111, 'group': 2, 'id': 'The Birdhouse', 'value': 3858},\n",
       " {'followers': 1353, 'group': 2, 'id': 'Vikas', 'value': 3854},\n",
       " {'followers': 380,\n",
       "  'group': 2,\n",
       "  'id': 'gab.ai/IamtheOne 🆒️🆓️🆙️',\n",
       "  'value': 3857},\n",
       " {'followers': 181, 'group': 2, 'id': 'Karan Saraswat', 'value': 3858},\n",
       " {'followers': 168, 'group': 2, 'id': 'Dharmesh Pancholi', 'value': 3858},\n",
       " {'followers': 23, 'group': 2, 'id': 'Golu Karn', 'value': 3858},\n",
       " {'followers': 127, 'group': 2, 'id': 'sanjay chopra', 'value': 3858},\n",
       " {'followers': 5, 'group': 2, 'id': 'Mayank Uniyal', 'value': 3858},\n",
       " {'followers': 81, 'group': 2, 'id': 'Ravi Shankar', 'value': 3858},\n",
       " {'followers': 779, 'group': 2, 'id': 'Baahubali Pragnik', 'value': 3856},\n",
       " {'followers': 427, 'group': 2, 'id': 'Amit Rana', 'value': 3857},\n",
       " {'followers': 659, 'group': 2, 'id': 'Arun Mishra', 'value': 3856},\n",
       " {'followers': 152, 'group': 2, 'id': 'Sanjiv Das', 'value': 3858},\n",
       " {'followers': 987, 'group': 2, 'id': 'Miscellaneous bull', 'value': 3855},\n",
       " {'followers': 257, 'group': 2, 'id': 'pacman', 'value': 3857},\n",
       " {'followers': 550, 'group': 2, 'id': \"Sara'D\", 'value': 3857},\n",
       " {'followers': 75, 'group': 2, 'id': 'Taqui Abedi', 'value': 3858},\n",
       " {'followers': 137,\n",
       "  'group': 2,\n",
       "  'id': 'Dr.Satveer Chandravanshi',\n",
       "  'value': 3858},\n",
       " {'followers': 4010, 'group': 2, 'id': 'दीपक शर्मा(अधिवक्ता)', 'value': 3848},\n",
       " {'followers': 1853, 'group': 2, 'id': 'Brajesh Kumar Singh', 'value': 3853},\n",
       " {'followers': 181, 'group': 2, 'id': 'MURUGANN C', 'value': 3858},\n",
       " {'followers': 271, 'group': 2, 'id': 'INVERSE THINKER', 'value': 3857},\n",
       " {'followers': 257, 'group': 2, 'id': 'Bremsstrahlung', 'value': 3857},\n",
       " {'followers': 4521, 'group': 2, 'id': 'bilal motorwala', 'value': 3846},\n",
       " {'followers': 365, 'group': 2, 'id': 'Kausar reza', 'value': 3857},\n",
       " {'followers': 41291, 'group': 2, 'id': 'George Kurian', 'value': 3751},\n",
       " {'followers': 2533, 'group': 2, 'id': 'RANA G🌷', 'value': 3851},\n",
       " {'followers': 248, 'group': 2, 'id': 'Darayas Rustom Irani', 'value': 3857},\n",
       " {'followers': 2160, 'group': 2, 'id': 'Aman Yadav', 'value': 3852},\n",
       " {'followers': 998, 'group': 2, 'id': 'ami#withRG#INC🇮🇳', 'value': 3855},\n",
       " {'followers': 188, 'group': 2, 'id': 'Albert Varghese Rajan', 'value': 3857},\n",
       " {'followers': 1027, 'group': 2, 'id': 'Neeraj', 'value': 3855},\n",
       " {'followers': 10121, 'group': 2, 'id': 'Manjeet Kaur', 'value': 3832},\n",
       " {'followers': 2490, 'group': 2, 'id': 'HUSNA  SK', 'value': 3852},\n",
       " {'followers': 331, 'group': 2, 'id': 'Taskeen Biradar', 'value': 3857},\n",
       " {'followers': 7302, 'group': 2, 'id': 'Amir Pathan', 'value': 3839},\n",
       " {'followers': 663, 'group': 2, 'id': 'Tanveer shaikh⏺️', 'value': 3856},\n",
       " {'followers': 2994, 'group': 2, 'id': 'Team Rahul Gandhi', 'value': 3850}]"
      ]
     },
     "execution_count": 40,
     "metadata": {},
     "output_type": "execute_result"
    }
   ],
   "source": [
    "nodes_lst"
   ]
  },
  {
   "cell_type": "markdown",
   "metadata": {},
   "source": [
    "> export"
   ]
  },
  {
   "cell_type": "code",
   "execution_count": null,
   "metadata": {
    "collapsed": true
   },
   "outputs": [],
   "source": [
    "# putting it together\n",
    "data = {}\n",
    "data['nodes'] = nodes_lst\n",
    "data['links'] = links_r"
   ]
  },
  {
   "cell_type": "code",
   "execution_count": null,
   "metadata": {
    "collapsed": true
   },
   "outputs": [],
   "source": [
    "import json\n",
    "with open('network_data_twitter.json', 'w') as outfile:\n",
    "    json.dump(data, outfile)"
   ]
  },
  {
   "cell_type": "code",
   "execution_count": null,
   "metadata": {
    "collapsed": true
   },
   "outputs": [],
   "source": [
    "# build the dataframe\n",
    "\n",
    "followers = [s.user.followers_count for s in searched_tweets]\n",
    "friends = [s.user.friends_count for s in searched_tweets]\n",
    "language = [s.lang for s in searched_tweets]\n",
    "listed_count = [s.user.listed_count for s in searched_tweets]\n",
    "locations = [s.user.location for s in searched_tweets]\n",
    "messages = [s.text.encode('utf8') for s in searched_tweets]\n",
    "posted_date = [s.created_at for s in searched_tweets]\n",
    "retweet_count = [s.retweet_count for s in searched_tweets]\n",
    "screen_name = [s.user.screen_name for s in searched_tweets]\n",
    "tweet_id = [s.id for s in searched_tweets]\n",
    "tweet_source = [s.source for s in searched_tweets] \n",
    "user_created_at = [s.user.created_at for s in searched_tweets]\n",
    "user_id = [s.user.id for s in searched_tweets]\n",
    "user_name = [s.user.name for s in searched_tweets]\n",
    "geo = [s.geo for s in searched_tweets]\n",
    "\n",
    "df = pd.DataFrame({\n",
    "'followers': followers,\n",
    "'friends': friends,\n",
    "'language' : language,\n",
    "'listed_count' : listed_count,\n",
    "'locations' : locations,\n",
    "'messages' : messages,\n",
    "'posted_date' : posted_date,\n",
    "'retweet_count': retweet_count,\n",
    "'screen_name' : screen_name,\n",
    "'tweet_id': tweet_id,\n",
    "'tweet_source': tweet_source, \n",
    "'user_created_at': user_created_at,\n",
    "'user_id': user_id,\n",
    "'user_name': user_name,\n",
    "\n",
    "})\n",
    "\n",
    "# output to json file for downloading\n",
    "df.to_csv('general_data_twitter.csv')\n",
    "# print(df.shape)\n"
   ]
  },
  {
   "cell_type": "markdown",
   "metadata": {},
   "source": [
    "> Map data "
   ]
  },
  {
   "cell_type": "code",
   "execution_count": null,
   "metadata": {
    "collapsed": true
   },
   "outputs": [],
   "source": [
    "# get a small_lst for demonstration purposes only\n",
    "\n",
    "small_lst = df.sample(100)\n",
    "location_small_lst, message_small_lst, date_small_lst = small_lst.locations,small_lst.messages, small_lst.posted_date"
   ]
  },
  {
   "cell_type": "code",
   "execution_count": null,
   "metadata": {
    "collapsed": true
   },
   "outputs": [],
   "source": [
    "# makes api call to translate location name into coordinates based on location field \n",
    "\n",
    "coordinates=[]\n",
    "for index,loc in enumerate(location_small_lst):\n",
    "    try:\n",
    "        location = geolocator.geocode(loc)\n",
    "        coordinates.append({\"lat\":location.latitude, \"lng\":location.longitude, \n",
    "                            \"title\":message_small_lst[index], \"posted_date\":date_small_lst[index]})\n",
    "    except:\n",
    "        pass"
   ]
  },
  {
   "cell_type": "code",
   "execution_count": null,
   "metadata": {},
   "outputs": [],
   "source": [
    "coordinates\n"
   ]
  },
  {
   "cell_type": "code",
   "execution_count": null,
   "metadata": {
    "collapsed": true
   },
   "outputs": [],
   "source": [
    "with open('map_data.json', 'w') as the_file:\n",
    "    for item in coordinates:\n",
    "        the_file.write(\"{}\".format(item))\n",
    "        \n",
    "pd.DataFrame(coordinates).to_json('map_data.json', orient='records')"
   ]
  },
  {
   "cell_type": "markdown",
   "metadata": {},
   "source": [
    "> Timeseries brush data"
   ]
  },
  {
   "cell_type": "code",
   "execution_count": null,
   "metadata": {
    "collapsed": true
   },
   "outputs": [],
   "source": [
    "# rolling sum over data for each hour\n",
    "\n",
    "df_roll = df.set_index(\"posted_date\")\n",
    "df_roll = df_roll.resample(\"1h\").sum().fillna(0).rolling(window=3, min_periods=1).mean()\n",
    "df_roll.reset_index(inplace=True)"
   ]
  },
  {
   "cell_type": "code",
   "execution_count": null,
   "metadata": {},
   "outputs": [],
   "source": [
    "# output timeseries data for brush\n",
    "\n",
    "data_roll=[]\n",
    "data_retweet=[]\n",
    "for i,j in enumerate(df_roll['posted_date']):\n",
    "    data_roll.append(j.strftime(\"%Y %b %d %H %M\")) \n",
    "    data_retweet.append(round(df.retweet_count[i],0))\n",
    "brush_df = pd.DataFrame({'date':data_roll,'price':data_retweet})\n",
    "brush_df.to_csv('brush_data.csv')\n",
    "\n",
    "with open('brush_data.csv','w') as myfile:\n",
    "    wr = csv.writer(myfile, quoting=csv.QUOTE_ALL)\n",
    "    wr.writerow(data_brush)"
   ]
  },
  {
   "cell_type": "markdown",
   "metadata": {},
   "source": [
    "> gauge data"
   ]
  },
  {
   "cell_type": "code",
   "execution_count": null,
   "metadata": {
    "collapsed": true
   },
   "outputs": [],
   "source": [
    "df_gauge = df.set_index(\"posted_date\")\n",
    "df_gauge = df_gauge.resample(\"1d\").sum().fillna(0).rolling(window=3, min_periods=1).mean()\n",
    "df_gauge.reset_index(inplace=True)"
   ]
  },
  {
   "cell_type": "code",
   "execution_count": null,
   "metadata": {
    "collapsed": true
   },
   "outputs": [],
   "source": [
    "df_gauge.to_csv('gauge_data.csv')"
   ]
  },
  {
   "cell_type": "code",
   "execution_count": null,
   "metadata": {
    "collapsed": true
   },
   "outputs": [],
   "source": [
    "retweet_to_node=[]\n",
    "for i in retweet_lst_user_ids:\n",
    "    if len(i) != 0:\n",
    "        for j in i:\n",
    "            retweet_to_node.append(j)\n",
    "    else:\n",
    "        retweet_to_node.append(1)"
   ]
  }
 ],
 "metadata": {
  "kernelspec": {
   "display_name": "Python 3",
   "language": "python",
   "name": "python3"
  },
  "language_info": {
   "codemirror_mode": {
    "name": "ipython",
    "version": 3
   },
   "file_extension": ".py",
   "mimetype": "text/x-python",
   "name": "python",
   "nbconvert_exporter": "python",
   "pygments_lexer": "ipython3",
   "version": "3.6.2"
  }
 },
 "nbformat": 4,
 "nbformat_minor": 2
}
