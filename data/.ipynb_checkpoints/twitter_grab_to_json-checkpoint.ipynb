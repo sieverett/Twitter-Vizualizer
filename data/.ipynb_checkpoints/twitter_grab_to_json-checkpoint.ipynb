{
 "cells": [
  {
   "cell_type": "code",
   "execution_count": 9,
   "metadata": {
    "scrolled": true
   },
   "outputs": [],
   "source": [
    "import json\n",
    "import tweepy\n",
    "import time\n",
    "import config_twit\n",
    "\n",
    "import pandas as pd\n",
    "import numpy as np\n",
    "import datetime\n",
    "import csv\n",
    "from geopy.geocoders import Nominatim\n",
    "geolocator = Nominatim(user_agent=\"specify_your_app_name_here\")"
   ]
  },
  {
   "cell_type": "code",
   "execution_count": 10,
   "metadata": {
    "collapsed": true
   },
   "outputs": [],
   "source": [
    "timestr = time.strftime(\"%Y%m%d-%H%M%S\")\n",
    "query = '#kathua OR \"kathua\" AND \"rape\"'\n",
    "max_tweets = 2000"
   ]
  },
  {
   "cell_type": "code",
   "execution_count": 11,
   "metadata": {
    "collapsed": true
   },
   "outputs": [],
   "source": [
    "# Enter your keys/secrets as strings in the following fields. config_twit is a .py file that contains \n",
    "# my twitter api auth codes \n",
    "\n",
    "API_KEY = config_twit.api_key\n",
    "API_SECRET = config_twit.api_secret\n",
    "ACCESS_TOKEN = config_twit.ACCESS_TOKEN\n",
    "ACCESS_TOKEN_SECRET = config_twit.ACCESS_TOKEN_SECRET\n",
    "\n",
    "# assuming twitter_authentication.py contains each of the 4 oauth elements (1 per line)\n",
    "\n",
    "auth = tweepy.OAuthHandler(API_KEY, API_SECRET)\n",
    "auth.set_access_token(ACCESS_TOKEN, ACCESS_TOKEN_SECRET)\n",
    "\n",
    "api = tweepy.API(auth)"
   ]
  },
  {
   "cell_type": "code",
   "execution_count": 12,
   "metadata": {},
   "outputs": [],
   "source": [
    "# extract data from tweets that match search terms \n",
    "\n",
    "searched_tweets = [status for status in tweepy.Cursor(api.search, wait_on_rate_limit=True,                                        wait_on_rate_limit_notify=True, \n",
    "since='2018-08-05', until='2018-08-06', q=query).items(max_tweets)]\n"
   ]
  },
  {
   "cell_type": "markdown",
   "metadata": {},
   "source": [
    "> Network data"
   ]
  },
  {
   "cell_type": "code",
   "execution_count": 13,
   "metadata": {
    "collapsed": true
   },
   "outputs": [],
   "source": [
    "# df to parse data into network graph - here make df for convenience but later could have lists\n",
    "tweet_id = [s.id for s in searched_tweets]\n",
    "user_id = [s.user.id for s in searched_tweets]\n",
    "screen_name = [s.user.screen_name for s in searched_tweets]\n",
    "followers = [s.user.followers_count for s in searched_tweets]\n",
    "retweet_count = [s.retweet_count for s in searched_tweets]\n",
    "locations = [s.user.location for s in searched_tweets]\n",
    "\n",
    "df = pd.DataFrame({'tweet_id':tweet_id, 'screen_name':screen_name, 'source':user_id, 'followers':followers, 'locations':locations})\n",
    "most_followed_tweeters = df.sort_values(by='followers', ascending=False).head(20).drop_duplicates(subset='screen_name')\n",
    "most_followed_tweets = zip(most_followed_tweeters.tweet_id, most_followed_tweeters.screen_name, \n",
    "                           most_followed_tweeters.followers)\n"
   ]
  },
  {
   "cell_type": "markdown",
   "metadata": {},
   "source": [
    "> Links list"
   ]
  },
  {
   "cell_type": "code",
   "execution_count": 14,
   "metadata": {
    "collapsed": true
   },
   "outputs": [],
   "source": [
    "# make links list: get retweet list of each tweet\n",
    "\n",
    "api = tweepy.API(auth, wait_on_rate_limit=True, wait_on_rate_limit_notify=True, compression=True)\n",
    "\n",
    "users_retweeted_dict ={}\n",
    "\n",
    "retweet_lst_names=[]\n",
    "retweet_lst_user_ids =[]\n",
    "for status_id, user_id, followers in most_followed_tweets:\n",
    "    \n",
    "    retweet_lst=[]\n",
    "    retweet_lst_name =[]\n",
    "    retweet_lst_user_id =[]\n",
    "    \n",
    "    for retweet_id in api.retweets(status_id):\n",
    "        retweet_lst.append(retweet_id.user.id)\n",
    "        retweet_lst_name.append(retweet_id.user.name)\n",
    "        retweet_lst_user_id.append(retweet_id.user.id)\n",
    "    \n",
    "    users_retweeted_dict[user_id] = retweet_lst_name\n",
    "    retweet_lst_names.append(retweet_lst_name)\n",
    "    retweet_lst_user_ids.append(retweet_lst_user_id)\n",
    "    \n",
    "# flatten list of retweet lists of names and ids for comilation below\n",
    "retweet_lst_names = [j for i in retweet_lst_names for j in i]\n",
    "retweet_lst_ids_flat = [j for i in retweet_lst_user_ids for j in i]  "
   ]
  },
  {
   "cell_type": "code",
   "execution_count": 15,
   "metadata": {},
   "outputs": [
    {
     "data": {
      "text/plain": [
       "131"
      ]
     },
     "execution_count": 15,
     "metadata": {},
     "output_type": "execute_result"
    }
   ],
   "source": [
    "len(retweet_lst_names)"
   ]
  },
  {
   "cell_type": "code",
   "execution_count": 16,
   "metadata": {
    "collapsed": true
   },
   "outputs": [],
   "source": [
    "# then replace tweet id with index number\n",
    "\n",
    "links_lst=[]\n",
    "for k in users_retweeted_dict:\n",
    "    if users_retweeted_dict[k]:\n",
    "        for u in users_retweeted_dict[k]:\n",
    "            links_lst.append({\"source\":k,\"target\":u})\n"
   ]
  },
  {
   "cell_type": "code",
   "execution_count": 17,
   "metadata": {
    "collapsed": true
   },
   "outputs": [],
   "source": [
    "# normalize original tweeters for \n",
    "mft = most_followed_tweeters.followers\n",
    "normalized_followers = np.round((np.abs(np.array(mft)-np.array(mft).mean())/mft.std())*10, 0)"
   ]
  },
  {
   "cell_type": "code",
   "execution_count": 18,
   "metadata": {
    "collapsed": true
   },
   "outputs": [],
   "source": [
    "# put all elements in link list together\n",
    "\n",
    "count=0\n",
    "count1=0\n",
    "links_r =[]\n",
    "for k,v in users_retweeted_dict.items():\n",
    "    for y,t in zip(most_followed_tweeters.screen_name, normalized_followers ):\n",
    "        if y == k:\n",
    "            value = t\n",
    "    for i in v:\n",
    "        links_r.append({\"source\":k, \"target\": i, \"value\": int(value)})\n",
    "        "
   ]
  },
  {
   "cell_type": "markdown",
   "metadata": {},
   "source": [
    ">Node list"
   ]
  },
  {
   "cell_type": "code",
   "execution_count": 23,
   "metadata": {
    "collapsed": true
   },
   "outputs": [],
   "source": [
    "# node: make \"group\" from location\n",
    "\n",
    "location_india =[]\n",
    "for i in most_followed_tweeters.locations:\n",
    "    if 'India' or 'New Delhi' in i:\n",
    "        location_india.append(1)\n",
    "    else:\n",
    "        location_india.append(0)\n",
    "# "
   ]
  },
  {
   "cell_type": "code",
   "execution_count": 20,
   "metadata": {
    "collapsed": true
   },
   "outputs": [],
   "source": [
    "# get followers counts of retweeters\n",
    "\n",
    "api = tweepy.API(auth, wait_on_rate_limit=True, wait_on_rate_limit_notify=True, compression=True)\n",
    "\n",
    "retweet_fol = []\n",
    "for re_tweet_id in retweet_lst_ids_flat:\n",
    "    user = api.get_user(re_tweet_id)\n",
    "    retweet_fol.append(user.followers_count)\n"
   ]
  },
  {
   "cell_type": "code",
   "execution_count": 25,
   "metadata": {},
   "outputs": [],
   "source": [
    "df = pd.DataFrame({'retweeter_id':retweet_lst_ids_flat,'retweeter_follower_count':retweet_fol})\n"
   ]
  },
  {
   "cell_type": "code",
   "execution_count": 60,
   "metadata": {},
   "outputs": [],
   "source": [
    "fols_values = []\n",
    "for fol in retweet_fol:\n",
    "    if fol < 1000:\n",
    "        fols_values.append(1)\n",
    "    elif fol < 10000:\n",
    "        fols_values.append(3)\n",
    "    else:\n",
    "        fols_values.append(6)"
   ]
  },
  {
   "cell_type": "code",
   "execution_count": 38,
   "metadata": {},
   "outputs": [
    {
     "data": {
      "text/plain": [
       "['Indian Advocate',\n",
       " 'Muhammad Ashraf',\n",
       " 'sahil shabir',\n",
       " 'Akhil Raghav',\n",
       " 'yogendra',\n",
       " 'Sushipra Nath Tripathi',\n",
       " 'Shahid Ali',\n",
       " 'Mohit',\n",
       " 'Shamsu jama',\n",
       " 'Liberador',\n",
       " 'hindihainhum',\n",
       " 'Vidhu Mishra',\n",
       " 'TheWALLS',\n",
       " 'Malik DDL',\n",
       " 'Arish',\n",
       " 'Zahir Khan🇮🇳',\n",
       " 'Sharad Pandey',\n",
       " 'Rajeshwar Bal',\n",
       " 'Abdul haye',\n",
       " 'chengal reddygari Harinath reddy',\n",
       " 'Mazhar Ahmad',\n",
       " 'Narinder Happa.(नरेन्द्र हप्पा)',\n",
       " 'राष्ट्रय सुलभ शौचालय (RSS) ⛺️⛺️',\n",
       " 'ॐ Dibakar 卐 🇮🇳',\n",
       " 'sahil shabir',\n",
       " 'Mirza Hyderabad',\n",
       " 'Mubashir',\n",
       " 'R G P',\n",
       " 'Waldemarr Whosane',\n",
       " 'Vasant Nargund',\n",
       " 'Nishwini Reddy',\n",
       " 'سارس جوش',\n",
       " 'सीधी बात',\n",
       " 'Pammi Singh',\n",
       " 'Anil Dikshit',\n",
       " 'Ani Helen',\n",
       " 'Subhankar Biswas',\n",
       " 'Aryu',\n",
       " 'waseem',\n",
       " 'Shivalika Sharma',\n",
       " 'SPARTAN 🐺',\n",
       " 'Javaid Trali',\n",
       " 'Rafqat Sonwaire⏺',\n",
       " 'eahamads',\n",
       " 'satyendra',\n",
       " 'Rajiv Prinja',\n",
       " 'Lt Cdr S K Sharma',\n",
       " 'Taleef Alam',\n",
       " 'zia ul',\n",
       " 'Anamika',\n",
       " 'Owais Ahmad',\n",
       " 'Narendra K Varma',\n",
       " 'Kumail Ansari',\n",
       " 'aysha jyoti',\n",
       " 'Be A Human!',\n",
       " 'Dheerendra Pratap Singh Rathore',\n",
       " 'राष्ट्र सर्वोपरि (निष्पक्ष पत्रकार)',\n",
       " 'YASH SAGAR',\n",
       " 'Vineet Gautam',\n",
       " '📷!satish_navale_photographer_!📷',\n",
       " 'Mahesh Mishra',\n",
       " 'Mohammad Ayyub',\n",
       " 'Ankit Poswal',\n",
       " '🐦✍राष्ट्रवादी कलम से☠ 🐦',\n",
       " 'Tariq Rameez',\n",
       " 'Sab Maya Hai',\n",
       " 'बेवाक आवाज',\n",
       " 'Fake News',\n",
       " 'Krishna Rai',\n",
       " 'Suman',\n",
       " 'Adv.Anil Thakur',\n",
       " 'SKSingh',\n",
       " 'Dr.Satveer Chandravanshi',\n",
       " 'VIJIYA CHOUHAN',\n",
       " 'Atifhusain',\n",
       " 'अभिजीत कुमार',\n",
       " 'mRiDuAL',\n",
       " 'Arshad Khan',\n",
       " 'Mohd Imran Khan',\n",
       " 'Tehseen',\n",
       " 'ʍɑղօյ ѕωєєтυρяαιту🌷',\n",
       " 'सीधी बात',\n",
       " 'G10so',\n",
       " 'Mk',\n",
       " 'Anil Dikshit',\n",
       " 'ಕನ್ನಡವೇ ಸತ್ಯ ವಂದೇ ಮಾತರಂ',\n",
       " 'Amit (TROLL)😁',\n",
       " 'K.Victor',\n",
       " 'javed khan',\n",
       " '▪️A3D▪️',\n",
       " 'Parth Parikh',\n",
       " 'Express',\n",
       " 'Manish Mishra',\n",
       " 'The Birdhouse',\n",
       " 'Vikas',\n",
       " 'gab.ai/IamtheOne 🆒️🆓️🆙️',\n",
       " 'Karan Saraswat',\n",
       " 'Dharmesh Pancholi',\n",
       " 'Golu Karn',\n",
       " 'sanjay chopra',\n",
       " 'Mayank Uniyal',\n",
       " 'Ravi Shankar',\n",
       " 'Baahubali Pragnik',\n",
       " 'Amit Rana',\n",
       " 'Arun Mishra',\n",
       " 'Sanjiv Das',\n",
       " 'Miscellaneous bull',\n",
       " 'pacman',\n",
       " \"Sara'D\",\n",
       " 'Taqui Abedi',\n",
       " 'Dr.Satveer Chandravanshi',\n",
       " 'दीपक शर्मा(अधिवक्ता)',\n",
       " 'Brajesh Kumar Singh',\n",
       " 'MURUGANN C',\n",
       " 'INVERSE THINKER',\n",
       " 'Bremsstrahlung',\n",
       " 'bilal motorwala',\n",
       " 'Kausar reza',\n",
       " 'George Kurian',\n",
       " 'RANA G🌷',\n",
       " 'Darayas Rustom Irani',\n",
       " 'Aman Yadav',\n",
       " 'ami#withRG#INC🇮🇳',\n",
       " 'Albert Varghese Rajan',\n",
       " 'Neeraj',\n",
       " 'Manjeet Kaur',\n",
       " 'HUSNA  SK',\n",
       " 'Taskeen Biradar',\n",
       " 'Amir Pathan',\n",
       " 'Tanveer shaikh⏺️',\n",
       " 'Team Rahul Gandhi']"
      ]
     },
     "execution_count": 38,
     "metadata": {},
     "output_type": "execute_result"
    }
   ],
   "source": [
    "retweet_lst_names"
   ]
  },
  {
   "cell_type": "code",
   "execution_count": 62,
   "metadata": {
    "collapsed": true
   },
   "outputs": [],
   "source": [
    "# make nodes lst\n",
    "\n",
    "nodes_lst = []\n",
    "for x,y,z,aa in zip(most_followed_tweeters.screen_name, location_india, normalized_followers, most_followed_tweeters.followers):\n",
    "     nodes_lst.append({\"id\":x, \"group\":y, \"value\":int(z), \"followers\":int(aa)})\n",
    "\n",
    "for x,y,z in zip(retweet_lst_names,fols_values, retweet_fol):\n",
    "     nodes_lst.append({\"id\":str(x), \"group\":2, \"value\":int(y), \"followers\":int(z)})\n",
    "\n"
   ]
  },
  {
   "cell_type": "code",
   "execution_count": 63,
   "metadata": {},
   "outputs": [
    {
     "data": {
      "text/plain": [
       "[{'followers': 10820309, 'group': 1, 'id': 'ndtv', 'value': 33},\n",
       " {'followers': 6457758, 'group': 1, 'id': 'htTweets', 'value': 18},\n",
       " {'followers': 3959323, 'group': 1, 'id': 'CNNnews18', 'value': 9},\n",
       " {'followers': 1963299, 'group': 1, 'id': 'firstpost', 'value': 2},\n",
       " {'followers': 1892056, 'group': 1, 'id': 'dna', 'value': 1},\n",
       " {'followers': 851770, 'group': 1, 'id': 'News18India', 'value': 2},\n",
       " {'followers': 689271, 'group': 1, 'id': 'NavbharatTimes', 'value': 3},\n",
       " {'followers': 539818, 'group': 1, 'id': 'NewsX', 'value': 3},\n",
       " {'followers': 343672, 'group': 1, 'id': 'NewIndianXpress', 'value': 4},\n",
       " {'followers': 217858, 'group': 1, 'id': 'TheQuint', 'value': 5},\n",
       " {'followers': 101769, 'group': 1, 'id': 'MyAnandaBazar', 'value': 5},\n",
       " {'followers': 93421, 'group': 1, 'id': 'Zaidu003', 'value': 5},\n",
       " {'followers': 85398, 'group': 1, 'id': 'OpIndia_com', 'value': 5},\n",
       " {'followers': 55175, 'group': 1, 'id': 'DeccanChronicle', 'value': 5},\n",
       " {'followers': 53985, 'group': 1, 'id': 'satishchoubey7', 'value': 5},\n",
       " {'followers': 50700, 'group': 1, 'id': 'HindiNews18', 'value': 5},\n",
       " {'followers': 49905, 'group': 1, 'id': 'alamgirizvi', 'value': 5},\n",
       " {'followers': 42775, 'group': 1, 'id': 'JasumatiPatel', 'value': 5},\n",
       " {'followers': 41291, 'group': 1, 'id': 'GeorgekurianINC', 'value': 5},\n",
       " {'followers': 400, 'group': 2, 'id': 'Indian Advocate', 'value': 1},\n",
       " {'followers': 2, 'group': 2, 'id': 'Muhammad Ashraf', 'value': 1},\n",
       " {'followers': 138, 'group': 2, 'id': 'sahil shabir', 'value': 1},\n",
       " {'followers': 135, 'group': 2, 'id': 'Akhil Raghav', 'value': 1},\n",
       " {'followers': 40, 'group': 2, 'id': 'yogendra', 'value': 1},\n",
       " {'followers': 85, 'group': 2, 'id': 'Sushipra Nath Tripathi', 'value': 1},\n",
       " {'followers': 131, 'group': 2, 'id': 'Shahid Ali', 'value': 1},\n",
       " {'followers': 275, 'group': 2, 'id': 'Mohit', 'value': 1},\n",
       " {'followers': 45, 'group': 2, 'id': 'Shamsu jama', 'value': 1},\n",
       " {'followers': 24, 'group': 2, 'id': 'Liberador', 'value': 1},\n",
       " {'followers': 456, 'group': 2, 'id': 'hindihainhum', 'value': 1},\n",
       " {'followers': 8, 'group': 2, 'id': 'Vidhu Mishra', 'value': 1},\n",
       " {'followers': 53, 'group': 2, 'id': 'TheWALLS', 'value': 1},\n",
       " {'followers': 1318, 'group': 2, 'id': 'Malik DDL', 'value': 3},\n",
       " {'followers': 56, 'group': 2, 'id': 'Arish', 'value': 1},\n",
       " {'followers': 1041, 'group': 2, 'id': 'Zahir Khan🇮🇳', 'value': 3},\n",
       " {'followers': 105, 'group': 2, 'id': 'Sharad Pandey', 'value': 1},\n",
       " {'followers': 280, 'group': 2, 'id': 'Rajeshwar Bal', 'value': 1},\n",
       " {'followers': 196, 'group': 2, 'id': 'Abdul haye', 'value': 1},\n",
       " {'followers': 14,\n",
       "  'group': 2,\n",
       "  'id': 'chengal reddygari Harinath reddy',\n",
       "  'value': 1},\n",
       " {'followers': 4, 'group': 2, 'id': 'Mazhar Ahmad', 'value': 1},\n",
       " {'followers': 1084,\n",
       "  'group': 2,\n",
       "  'id': 'Narinder Happa.(नरेन्द्र हप्पा)',\n",
       "  'value': 3},\n",
       " {'followers': 194,\n",
       "  'group': 2,\n",
       "  'id': 'राष्ट्रय सुलभ शौचालय (RSS) ⛺️⛺️',\n",
       "  'value': 1},\n",
       " {'followers': 500, 'group': 2, 'id': 'ॐ Dibakar 卐 🇮🇳', 'value': 1},\n",
       " {'followers': 138, 'group': 2, 'id': 'sahil shabir', 'value': 1},\n",
       " {'followers': 1512, 'group': 2, 'id': 'Mirza Hyderabad', 'value': 3},\n",
       " {'followers': 8482, 'group': 2, 'id': 'Mubashir', 'value': 3},\n",
       " {'followers': 1389, 'group': 2, 'id': 'R G P', 'value': 3},\n",
       " {'followers': 157, 'group': 2, 'id': 'Waldemarr Whosane', 'value': 1},\n",
       " {'followers': 148, 'group': 2, 'id': 'Vasant Nargund', 'value': 1},\n",
       " {'followers': 90, 'group': 2, 'id': 'Nishwini Reddy', 'value': 1},\n",
       " {'followers': 336, 'group': 2, 'id': 'سارس جوش', 'value': 1},\n",
       " {'followers': 28, 'group': 2, 'id': 'सीधी बात', 'value': 1},\n",
       " {'followers': 219, 'group': 2, 'id': 'Pammi Singh', 'value': 1},\n",
       " {'followers': 669, 'group': 2, 'id': 'Anil Dikshit', 'value': 1},\n",
       " {'followers': 43, 'group': 2, 'id': 'Ani Helen', 'value': 1},\n",
       " {'followers': 268, 'group': 2, 'id': 'Subhankar Biswas', 'value': 1},\n",
       " {'followers': 67, 'group': 2, 'id': 'Aryu', 'value': 1},\n",
       " {'followers': 514, 'group': 2, 'id': 'waseem', 'value': 1},\n",
       " {'followers': 105, 'group': 2, 'id': 'Shivalika Sharma', 'value': 1},\n",
       " {'followers': 87, 'group': 2, 'id': 'SPARTAN 🐺', 'value': 1},\n",
       " {'followers': 4491, 'group': 2, 'id': 'Javaid Trali', 'value': 3},\n",
       " {'followers': 822, 'group': 2, 'id': 'Rafqat Sonwaire⏺', 'value': 1},\n",
       " {'followers': 37, 'group': 2, 'id': 'eahamads', 'value': 1},\n",
       " {'followers': 288, 'group': 2, 'id': 'satyendra', 'value': 1},\n",
       " {'followers': 103, 'group': 2, 'id': 'Rajiv Prinja', 'value': 1},\n",
       " {'followers': 7091, 'group': 2, 'id': 'Lt Cdr S K Sharma', 'value': 3},\n",
       " {'followers': 58, 'group': 2, 'id': 'Taleef Alam', 'value': 1},\n",
       " {'followers': 408, 'group': 2, 'id': 'zia ul', 'value': 1},\n",
       " {'followers': 419, 'group': 2, 'id': 'Anamika', 'value': 1},\n",
       " {'followers': 260, 'group': 2, 'id': 'Owais Ahmad', 'value': 1},\n",
       " {'followers': 1069, 'group': 2, 'id': 'Narendra K Varma', 'value': 3},\n",
       " {'followers': 531, 'group': 2, 'id': 'Kumail Ansari', 'value': 1},\n",
       " {'followers': 167, 'group': 2, 'id': 'aysha jyoti', 'value': 1},\n",
       " {'followers': 223, 'group': 2, 'id': 'Be A Human!', 'value': 1},\n",
       " {'followers': 110,\n",
       "  'group': 2,\n",
       "  'id': 'Dheerendra Pratap Singh Rathore',\n",
       "  'value': 1},\n",
       " {'followers': 354,\n",
       "  'group': 2,\n",
       "  'id': 'राष्ट्र सर्वोपरि (निष्पक्ष पत्रकार)',\n",
       "  'value': 1},\n",
       " {'followers': 141, 'group': 2, 'id': 'YASH SAGAR', 'value': 1},\n",
       " {'followers': 1192, 'group': 2, 'id': 'Vineet Gautam', 'value': 3},\n",
       " {'followers': 56,\n",
       "  'group': 2,\n",
       "  'id': '📷!satish_navale_photographer_!📷',\n",
       "  'value': 1},\n",
       " {'followers': 442, 'group': 2, 'id': 'Mahesh Mishra', 'value': 1},\n",
       " {'followers': 6, 'group': 2, 'id': 'Mohammad Ayyub', 'value': 1},\n",
       " {'followers': 51, 'group': 2, 'id': 'Ankit Poswal', 'value': 1},\n",
       " {'followers': 557, 'group': 2, 'id': '🐦✍राष्ट्रवादी कलम से☠ 🐦', 'value': 1},\n",
       " {'followers': 11, 'group': 2, 'id': 'Tariq Rameez', 'value': 1},\n",
       " {'followers': 373, 'group': 2, 'id': 'Sab Maya Hai', 'value': 1},\n",
       " {'followers': 158, 'group': 2, 'id': 'बेवाक आवाज', 'value': 1},\n",
       " {'followers': 266, 'group': 2, 'id': 'Fake News', 'value': 1},\n",
       " {'followers': 730, 'group': 2, 'id': 'Krishna Rai', 'value': 1},\n",
       " {'followers': 29, 'group': 2, 'id': 'Suman', 'value': 1},\n",
       " {'followers': 3130, 'group': 2, 'id': 'Adv.Anil Thakur', 'value': 3},\n",
       " {'followers': 159, 'group': 2, 'id': 'SKSingh', 'value': 1},\n",
       " {'followers': 137, 'group': 2, 'id': 'Dr.Satveer Chandravanshi', 'value': 1},\n",
       " {'followers': 32, 'group': 2, 'id': 'VIJIYA CHOUHAN', 'value': 1},\n",
       " {'followers': 35, 'group': 2, 'id': 'Atifhusain', 'value': 1},\n",
       " {'followers': 31, 'group': 2, 'id': 'अभिजीत कुमार', 'value': 1},\n",
       " {'followers': 278, 'group': 2, 'id': 'mRiDuAL', 'value': 1},\n",
       " {'followers': 26, 'group': 2, 'id': 'Arshad Khan', 'value': 1},\n",
       " {'followers': 779, 'group': 2, 'id': 'Mohd Imran Khan', 'value': 1},\n",
       " {'followers': 421, 'group': 2, 'id': 'Tehseen', 'value': 1},\n",
       " {'followers': 1186, 'group': 2, 'id': 'ʍɑղօյ ѕωєєтυρяαιту🌷', 'value': 3},\n",
       " {'followers': 28, 'group': 2, 'id': 'सीधी बात', 'value': 1},\n",
       " {'followers': 36, 'group': 2, 'id': 'G10so', 'value': 1},\n",
       " {'followers': 258, 'group': 2, 'id': 'Mk', 'value': 1},\n",
       " {'followers': 669, 'group': 2, 'id': 'Anil Dikshit', 'value': 1},\n",
       " {'followers': 1128, 'group': 2, 'id': 'ಕನ್ನಡವೇ ಸತ್ಯ ವಂದೇ ಮಾತರಂ', 'value': 3},\n",
       " {'followers': 1009, 'group': 2, 'id': 'Amit (TROLL)😁', 'value': 3},\n",
       " {'followers': 36, 'group': 2, 'id': 'K.Victor', 'value': 1},\n",
       " {'followers': 1452, 'group': 2, 'id': 'javed khan', 'value': 3},\n",
       " {'followers': 1841, 'group': 2, 'id': '▪️A3D▪️', 'value': 3},\n",
       " {'followers': 2568, 'group': 2, 'id': 'Parth Parikh', 'value': 3},\n",
       " {'followers': 42, 'group': 2, 'id': 'Express', 'value': 1},\n",
       " {'followers': 1026, 'group': 2, 'id': 'Manish Mishra', 'value': 3},\n",
       " {'followers': 111, 'group': 2, 'id': 'The Birdhouse', 'value': 1},\n",
       " {'followers': 1353, 'group': 2, 'id': 'Vikas', 'value': 3},\n",
       " {'followers': 380, 'group': 2, 'id': 'gab.ai/IamtheOne 🆒️🆓️🆙️', 'value': 1},\n",
       " {'followers': 181, 'group': 2, 'id': 'Karan Saraswat', 'value': 1},\n",
       " {'followers': 168, 'group': 2, 'id': 'Dharmesh Pancholi', 'value': 1},\n",
       " {'followers': 23, 'group': 2, 'id': 'Golu Karn', 'value': 1},\n",
       " {'followers': 127, 'group': 2, 'id': 'sanjay chopra', 'value': 1},\n",
       " {'followers': 5, 'group': 2, 'id': 'Mayank Uniyal', 'value': 1},\n",
       " {'followers': 81, 'group': 2, 'id': 'Ravi Shankar', 'value': 1},\n",
       " {'followers': 779, 'group': 2, 'id': 'Baahubali Pragnik', 'value': 1},\n",
       " {'followers': 427, 'group': 2, 'id': 'Amit Rana', 'value': 1},\n",
       " {'followers': 659, 'group': 2, 'id': 'Arun Mishra', 'value': 1},\n",
       " {'followers': 152, 'group': 2, 'id': 'Sanjiv Das', 'value': 1},\n",
       " {'followers': 987, 'group': 2, 'id': 'Miscellaneous bull', 'value': 1},\n",
       " {'followers': 257, 'group': 2, 'id': 'pacman', 'value': 1},\n",
       " {'followers': 550, 'group': 2, 'id': \"Sara'D\", 'value': 1},\n",
       " {'followers': 75, 'group': 2, 'id': 'Taqui Abedi', 'value': 1},\n",
       " {'followers': 137, 'group': 2, 'id': 'Dr.Satveer Chandravanshi', 'value': 1},\n",
       " {'followers': 4010, 'group': 2, 'id': 'दीपक शर्मा(अधिवक्ता)', 'value': 3},\n",
       " {'followers': 1853, 'group': 2, 'id': 'Brajesh Kumar Singh', 'value': 3},\n",
       " {'followers': 181, 'group': 2, 'id': 'MURUGANN C', 'value': 1},\n",
       " {'followers': 271, 'group': 2, 'id': 'INVERSE THINKER', 'value': 1},\n",
       " {'followers': 257, 'group': 2, 'id': 'Bremsstrahlung', 'value': 1},\n",
       " {'followers': 4521, 'group': 2, 'id': 'bilal motorwala', 'value': 3},\n",
       " {'followers': 365, 'group': 2, 'id': 'Kausar reza', 'value': 1},\n",
       " {'followers': 41291, 'group': 2, 'id': 'George Kurian', 'value': 6},\n",
       " {'followers': 2533, 'group': 2, 'id': 'RANA G🌷', 'value': 3},\n",
       " {'followers': 248, 'group': 2, 'id': 'Darayas Rustom Irani', 'value': 1},\n",
       " {'followers': 2160, 'group': 2, 'id': 'Aman Yadav', 'value': 3},\n",
       " {'followers': 998, 'group': 2, 'id': 'ami#withRG#INC🇮🇳', 'value': 1},\n",
       " {'followers': 188, 'group': 2, 'id': 'Albert Varghese Rajan', 'value': 1},\n",
       " {'followers': 1027, 'group': 2, 'id': 'Neeraj', 'value': 3},\n",
       " {'followers': 10121, 'group': 2, 'id': 'Manjeet Kaur', 'value': 6},\n",
       " {'followers': 2490, 'group': 2, 'id': 'HUSNA  SK', 'value': 3},\n",
       " {'followers': 331, 'group': 2, 'id': 'Taskeen Biradar', 'value': 1},\n",
       " {'followers': 7302, 'group': 2, 'id': 'Amir Pathan', 'value': 3},\n",
       " {'followers': 663, 'group': 2, 'id': 'Tanveer shaikh⏺️', 'value': 1},\n",
       " {'followers': 2994, 'group': 2, 'id': 'Team Rahul Gandhi', 'value': 3}]"
      ]
     },
     "execution_count": 63,
     "metadata": {},
     "output_type": "execute_result"
    }
   ],
   "source": [
    "nodes_lst"
   ]
  },
  {
   "cell_type": "markdown",
   "metadata": {},
   "source": [
    "> export"
   ]
  },
  {
   "cell_type": "code",
   "execution_count": 64,
   "metadata": {
    "collapsed": true
   },
   "outputs": [],
   "source": [
    "# putting it together\n",
    "data = {}\n",
    "data['nodes'] = nodes_lst\n",
    "data['links'] = links_r"
   ]
  },
  {
   "cell_type": "code",
   "execution_count": 65,
   "metadata": {
    "collapsed": true
   },
   "outputs": [],
   "source": [
    "import json\n",
    "with open('network_data_twitter.json', 'w') as outfile:\n",
    "    json.dump(data, outfile)"
   ]
  },
  {
   "cell_type": "code",
   "execution_count": 66,
   "metadata": {
    "collapsed": true
   },
   "outputs": [],
   "source": [
    "# build the dataframe\n",
    "\n",
    "followers = [s.user.followers_count for s in searched_tweets]\n",
    "friends = [s.user.friends_count for s in searched_tweets]\n",
    "language = [s.lang for s in searched_tweets]\n",
    "listed_count = [s.user.listed_count for s in searched_tweets]\n",
    "locations = [s.user.location for s in searched_tweets]\n",
    "messages = [s.text.encode('utf8') for s in searched_tweets]\n",
    "posted_date = [s.created_at for s in searched_tweets]\n",
    "retweet_count = [s.retweet_count for s in searched_tweets]\n",
    "screen_name = [s.user.screen_name for s in searched_tweets]\n",
    "tweet_id = [s.id for s in searched_tweets]\n",
    "tweet_source = [s.source for s in searched_tweets] \n",
    "user_created_at = [s.user.created_at for s in searched_tweets]\n",
    "user_id = [s.user.id for s in searched_tweets]\n",
    "user_name = [s.user.name for s in searched_tweets]\n",
    "geo = [s.geo for s in searched_tweets]\n",
    "\n",
    "df = pd.DataFrame({\n",
    "'followers': followers,\n",
    "'friends': friends,\n",
    "'language' : language,\n",
    "'listed_count' : listed_count,\n",
    "'locations' : locations,\n",
    "'messages' : messages,\n",
    "'posted_date' : posted_date,\n",
    "'retweet_count': retweet_count,\n",
    "'screen_name' : screen_name,\n",
    "'tweet_id': tweet_id,\n",
    "'tweet_source': tweet_source, \n",
    "'user_created_at': user_created_at,\n",
    "'user_id': user_id,\n",
    "'user_name': user_name,\n",
    "\n",
    "})\n",
    "\n",
    "# output to json file for downloading\n",
    "df.to_csv('general_data_twitter.csv')\n",
    "# print(df.shape)\n"
   ]
  },
  {
   "cell_type": "markdown",
   "metadata": {},
   "source": [
    "> Map data "
   ]
  },
  {
   "cell_type": "code",
   "execution_count": 67,
   "metadata": {
    "collapsed": true
   },
   "outputs": [],
   "source": [
    "# get a small_lst for demonstration purposes only\n",
    "\n",
    "small_lst = df.sample(100)\n",
    "location_small_lst, message_small_lst, date_small_lst = small_lst.locations,small_lst.messages, small_lst.posted_date"
   ]
  },
  {
   "cell_type": "code",
   "execution_count": 68,
   "metadata": {
    "collapsed": true
   },
   "outputs": [],
   "source": [
    "# makes api call to translate location name into coordinates based on location field \n",
    "\n",
    "coordinates=[]\n",
    "for index,loc in enumerate(location_small_lst):\n",
    "    try:\n",
    "        location = geolocator.geocode(loc)\n",
    "        coordinates.append({\"lat\":location.latitude, \"lng\":location.longitude, \n",
    "                            \"title\":message_small_lst[index], \"posted_date\":date_small_lst[index]})\n",
    "    except:\n",
    "        pass"
   ]
  },
  {
   "cell_type": "code",
   "execution_count": 69,
   "metadata": {},
   "outputs": [
    {
     "data": {
      "text/plain": [
       "[{'lat': 22.3511148,\n",
       "  'lng': 78.6677428,\n",
       "  'posted_date': Timestamp('2018-08-05 20:19:15'),\n",
       "  'title': b\"RT @alamgirizvi: In order to save the MLA of BJP accused of rape, the victim's father was killed\\nBJP ministers in Kathua landed on the stre\\xe2\\x80\\xa6\"},\n",
       " {'lat': 28.6141793,\n",
       "  'lng': 77.2022662,\n",
       "  'posted_date': Timestamp('2018-08-05 20:12:08'),\n",
       "  'title': b\"RT @alamgirizvi: In order to save the MLA of BJP accused of rape, the victim's father was killed\\nBJP ministers in Kathua landed on the stre\\xe2\\x80\\xa6\"},\n",
       " {'lat': 22.3511148,\n",
       "  'lng': 78.6677428,\n",
       "  'posted_date': Timestamp('2018-08-05 20:03:34'),\n",
       "  'title': b\"RT @alamgirizvi: In order to save the MLA of BJP accused of rape, the victim's father was killed\\nBJP ministers in Kathua landed on the stre\\xe2\\x80\\xa6\"},\n",
       " {'lat': 12.8698101,\n",
       "  'lng': 74.8430082,\n",
       "  'posted_date': Timestamp('2018-08-05 19:56:26'),\n",
       "  'title': b\"RT @alamgirizvi: In order to save the MLA of BJP accused of rape, the victim's father was killed\\nBJP ministers in Kathua landed on the stre\\xe2\\x80\\xa6\"},\n",
       " {'lat': 26.916194,\n",
       "  'lng': 75.820349,\n",
       "  'posted_date': Timestamp('2018-08-05 18:32:12'),\n",
       "  'title': b\"RT @asindeo: #TalibHussain, the 'Braveheart' seeking justice for #Kathua rape victim arrested on rape charges #Shame https://t.co/gBZi2scYk\\xe2\\x80\\xa6\"},\n",
       " {'lat': 30.7194022,\n",
       "  'lng': 76.7646552,\n",
       "  'posted_date': Timestamp('2018-08-05 18:28:21'),\n",
       "  'title': b'RT @Being_Humor: \\xe2\\x80\\x9cRally for women safety\\xe2\\x80\\x9d\\n1. @yadavtejashwi: beaten by youths for Eve teasing. \\n2. @attorneybharti: arrested for beating hi\\xe2\\x80\\xa6'},\n",
       " {'lat': 28.5726442,\n",
       "  'lng': 77.3547609,\n",
       "  'posted_date': Timestamp('2018-08-05 17:40:07'),\n",
       "  'title': b'\\xe0\\xa6\\xa7\\xe0\\xa6\\xb0\\xe0\\xa7\\x8d\\xe0\\xa6\\xb7\\xe0\\xa6\\xa3, \\xe0\\xa6\\x96\\xe0\\xa7\\x81\\xe0\\xa6\\xa8 \\xe0\\xa6\\x8f\\xe0\\xa6\\xac\\xe0\\xa6\\x82 \\xe0\\xa6\\xae\\xe0\\xa7\\x83\\xe0\\xa6\\xa4\\xe0\\xa6\\xa6\\xe0\\xa7\\x87\\xe0\\xa6\\xb9 \\xe0\\xa6\\xae\\xe0\\xa6\\xbe\\xe0\\xa6\\x9f\\xe0\\xa6\\xbf\\xe0\\xa6\\xa4\\xe0\\xa7\\x87 \\xe0\\xa6\\xaa\\xe0\\xa7\\x8b\\xe0\\xa6\\x81\\xe0\\xa6\\xa4\\xe0\\xa6\\xbe\\xe0\\xa6\\xb0 \\xe0\\xa6\\xb8\\xe0\\xa6\\xae\\xe0\\xa6\\xaf\\xe0\\xa6\\xbc\\xe0\\xa6\\x95\\xe0\\xa6\\xbe\\xe0\\xa6\\xb2\\xe0\\xa7\\x87 \\xe0\\xa6\\xa4\\xe0\\xa6\\xbf\\xe0\\xa6\\xa8\\xe0\\xa6\\xbf \\xe0\\xa6\\xae\\xe0\\xa7\\x87\\xe0\\xa6\\xb0\\xe0\\xa6\\xa0\\xe0\\xa7\\x87 \\xe0\\xa6\\x9b\\xe0\\xa6\\xbf\\xe0\\xa6\\xb2\\xe0\\xa7\\x87\\xe0\\xa6\\xa8, \\xe0\\xa6\\x95\\xe0\\xa6\\xbe\\xe0\\xa6\\xa0\\xe0\\xa7\\x81\\xe0\\xa6\\xaf\\xe0\\xa6\\xbc\\xe0\\xa6\\xbe\\xe0\\xa6\\xaf\\xe0\\xa6\\xbc \\xe0\\xa6\\xaf\\xe0\\xa6\\xbe\\xe0\\xa6\\xa8\\xe0\\xa6\\xa8\\xe0\\xa6\\xbf\\xe0\\xa5\\xa4 https://t.co/yQEm3COzTI'}]"
      ]
     },
     "execution_count": 69,
     "metadata": {},
     "output_type": "execute_result"
    }
   ],
   "source": [
    "coordinates\n"
   ]
  },
  {
   "cell_type": "code",
   "execution_count": 70,
   "metadata": {
    "collapsed": true
   },
   "outputs": [],
   "source": [
    "with open('map_data.json', 'w') as the_file:\n",
    "    for item in coordinates:\n",
    "        the_file.write(\"{}\".format(item))\n",
    "        \n",
    "pd.DataFrame(coordinates).to_json('map_data.json', orient='records')"
   ]
  },
  {
   "cell_type": "markdown",
   "metadata": {},
   "source": [
    "> Timeseries brush data"
   ]
  },
  {
   "cell_type": "code",
   "execution_count": 71,
   "metadata": {
    "collapsed": true
   },
   "outputs": [],
   "source": [
    "# rolling sum over data for each hour\n",
    "\n",
    "df_roll = df.set_index(\"posted_date\")\n",
    "df_roll = df_roll.resample(\"1h\").sum().fillna(0).rolling(window=3, min_periods=1).mean()\n",
    "df_roll.reset_index(inplace=True)"
   ]
  },
  {
   "cell_type": "code",
   "execution_count": 72,
   "metadata": {},
   "outputs": [
    {
     "ename": "NameError",
     "evalue": "name 'data_brush' is not defined",
     "output_type": "error",
     "traceback": [
      "\u001b[1;31m---------------------------------------------------------------------------\u001b[0m",
      "\u001b[1;31mNameError\u001b[0m                                 Traceback (most recent call last)",
      "\u001b[1;32m<ipython-input-72-14970290dee8>\u001b[0m in \u001b[0;36m<module>\u001b[1;34m()\u001b[0m\n\u001b[0;32m     11\u001b[0m \u001b[1;32mwith\u001b[0m \u001b[0mopen\u001b[0m\u001b[1;33m(\u001b[0m\u001b[1;34m'brush_data.csv'\u001b[0m\u001b[1;33m,\u001b[0m\u001b[1;34m'w'\u001b[0m\u001b[1;33m)\u001b[0m \u001b[1;32mas\u001b[0m \u001b[0mmyfile\u001b[0m\u001b[1;33m:\u001b[0m\u001b[1;33m\u001b[0m\u001b[0m\n\u001b[0;32m     12\u001b[0m     \u001b[0mwr\u001b[0m \u001b[1;33m=\u001b[0m \u001b[0mcsv\u001b[0m\u001b[1;33m.\u001b[0m\u001b[0mwriter\u001b[0m\u001b[1;33m(\u001b[0m\u001b[0mmyfile\u001b[0m\u001b[1;33m,\u001b[0m \u001b[0mquoting\u001b[0m\u001b[1;33m=\u001b[0m\u001b[0mcsv\u001b[0m\u001b[1;33m.\u001b[0m\u001b[0mQUOTE_ALL\u001b[0m\u001b[1;33m)\u001b[0m\u001b[1;33m\u001b[0m\u001b[0m\n\u001b[1;32m---> 13\u001b[1;33m     \u001b[0mwr\u001b[0m\u001b[1;33m.\u001b[0m\u001b[0mwriterow\u001b[0m\u001b[1;33m(\u001b[0m\u001b[0mdata_brush\u001b[0m\u001b[1;33m)\u001b[0m\u001b[1;33m\u001b[0m\u001b[0m\n\u001b[0m",
      "\u001b[1;31mNameError\u001b[0m: name 'data_brush' is not defined"
     ]
    }
   ],
   "source": [
    "# output timeseries data for brush\n",
    "\n",
    "data_roll=[]\n",
    "data_retweet=[]\n",
    "for i,j in enumerate(df_roll['posted_date']):\n",
    "    data_roll.append(j.strftime(\"%Y %b %d %H %M\")) \n",
    "    data_retweet.append(round(df.retweet_count[i],0))\n",
    "brush_df = pd.DataFrame({'date':data_roll,'price':data_retweet})\n",
    "brush_df.to_csv('brush_data.csv')\n",
    "\n",
    "with open('brush_data.csv','w') as myfile:\n",
    "    wr = csv.writer(myfile, quoting=csv.QUOTE_ALL)\n",
    "    wr.writerow(data_brush)"
   ]
  },
  {
   "cell_type": "markdown",
   "metadata": {},
   "source": [
    "> gauge data"
   ]
  },
  {
   "cell_type": "code",
   "execution_count": null,
   "metadata": {
    "collapsed": true
   },
   "outputs": [],
   "source": [
    "df_gauge = df.set_index(\"posted_date\")\n",
    "df_gauge = df_gauge.resample(\"1d\").sum().fillna(0).rolling(window=3, min_periods=1).mean()\n",
    "df_gauge.reset_index(inplace=True)"
   ]
  },
  {
   "cell_type": "code",
   "execution_count": null,
   "metadata": {
    "collapsed": true
   },
   "outputs": [],
   "source": [
    "df_gauge.to_csv('gauge_data.csv')"
   ]
  },
  {
   "cell_type": "code",
   "execution_count": null,
   "metadata": {
    "collapsed": true
   },
   "outputs": [],
   "source": [
    "retweet_to_node=[]\n",
    "for i in retweet_lst_user_ids:\n",
    "    if len(i) != 0:\n",
    "        for j in i:\n",
    "            retweet_to_node.append(j)\n",
    "    else:\n",
    "        retweet_to_node.append(1)"
   ]
  },
  {
   "cell_type": "markdown",
   "metadata": {},
   "source": [
    "### Code for brush_data and gauge values "
   ]
  },
  {
   "cell_type": "code",
   "execution_count": null,
   "metadata": {},
   "outputs": [],
   "source": [
    "# auth as above \n",
    "\n",
    "# build the dataframe\n",
    "tweet_id = [s.id for s in searched_tweets]\n",
    "user_id = [s.user.id for s in searched_tweets]\n",
    "screen_name = [s.user.screen_name for s in searched_tweets]\n",
    "followers = [s.user.followers_count for s in searched_tweets]\n",
    "retweet_count = [s.retweet_count for s in searched_tweets]\n",
    "locations = [s.user.location for s in searched_tweets]\n",
    "friends = [s.user.friends_count for s in searched_tweets]\n",
    "user_created_at = [s.user.created_at for s in searched_tweets]\n",
    "tweet_source = [s.source for s in searched_tweets] \n",
    "friends = [s.user.favourites_count for s in searched_tweets]\n",
    "listed_count = [s.user.listed_count for s in searched_tweets]\n",
    "language = [s.lang for s in searched_tweets]\n",
    "posted_date = [s.created_at for s in searched_tweets]\n",
    "messages = [s.text.encode('utf8') for s in searched_tweets]\n",
    "user_name = [s.user.name for s in searched_tweets]\n",
    "\n",
    "df = pd.DataFrame(\n",
    "    {'tweet_id':tweet_id,'user_id':user_id,'posted_date':posted_date, 'tweet_source':tweet_source, 'messages': messages, \n",
    "     'user_name':user_name, 'screen_name':screen_name, 'locations':locations, 'followers':followers,\n",
    "     'retweet_count':retweet_count, 'friends':friends, 'user_created_at': user_created_at, \n",
    "     'friends':friends, 'listed_count':listed_count, 'language':language})\n",
    "\n",
    "df['posted_date'] = df['posted_date'].astype(str)"
   ]
  },
  {
   "cell_type": "code",
   "execution_count": null,
   "metadata": {},
   "outputs": [],
   "source": [
    "# saved each to its own date and then loaded/brought them together to one df\n",
    "df.to_json('twitter_data_5aug.json')"
   ]
  },
  {
   "cell_type": "code",
   "execution_count": null,
   "metadata": {},
   "outputs": [],
   "source": [
    "df1 = pd.read_json('twitter_data_1aug.json')\n",
    "df2 = pd.read_json('twitter_data_2aug.json')\n",
    "df3 = pd.read_json('twitter_data_3aug.json')\n",
    "df4 = pd.read_json('twitter_data_4aug.json')\n",
    "df5 = pd.read_json('twitter_data_5aug.json')\n",
    "df6 = pd.read_json('twitter_data_6aug.json')\n",
    "df7 = pd.read_json('twitter_data_7aug.json')\n",
    "df8 = pd.read_json('twitter_data_new.json')\n",
    "\n",
    "frames = [df8, df1, df2, df3, df4, df5, df6, df7]\n",
    "df = pd.concat(frames, sort=False)"
   ]
  },
  {
   "cell_type": "code",
   "execution_count": null,
   "metadata": {},
   "outputs": [],
   "source": [
    "# Converts the date to a datetime format - map it to an integer and then makes the format to fit\n",
    "# what the chart is expecting to see in d3 like \"2018 Aug 01 0100\"\n",
    "\n",
    "df['TS'] = pd.to_datetime(df['posted_date'])\n",
    "df['check'] = df['TS'].map(lambda x: 100*x.day + x.hour)\n",
    "test = df['check'].value_counts().sort_index()\n",
    "test['Date'] = test.index\n",
    "new = pd.DataFrame()\n",
    "new['date'] = test['Date'].map(lambda x: '2018 ' + 'Aug 0' + str(x)[0:1] + ' ' + str(x)[1:3] + ' 00')"
   ]
  },
  {
   "cell_type": "code",
   "execution_count": null,
   "metadata": {},
   "outputs": [],
   "source": [
    "# I couldn't get the #s and the dates to match up (1 more line in the counts which is like the indexing)\n",
    "# saved them both to a .csv and then combined the csv worked though\n",
    "new.to_csv('dates.csv')\n",
    "test.to_csv('count.csv')"
   ]
  },
  {
   "cell_type": "code",
   "execution_count": null,
   "metadata": {},
   "outputs": [],
   "source": [
    "# of unique messages = len\n",
    "df['messages'].value_counts()"
   ]
  },
  {
   "cell_type": "code",
   "execution_count": null,
   "metadata": {},
   "outputs": [],
   "source": [
    "# of unique users = len\n",
    "df['screen_name'].value_counts()"
   ]
  },
  {
   "cell_type": "code",
   "execution_count": null,
   "metadata": {},
   "outputs": [],
   "source": [
    "# A small script to calculate the number of followers by taking only the unique names\n",
    "# needs the try/except to skip indexes that are there (like if no one has 503 followers)\n",
    "\n",
    "a = df.groupby('followers')['screen_name'].nunique()\n",
    "total = 0\n",
    "for i in range(len(a)):\n",
    "    try:\n",
    "        total += (a.index[i] *a[i])\n",
    "    except:\n",
    "        continue\n",
    "print(total)"
   ]
  }
 ],
 "metadata": {
  "kernelspec": {
   "display_name": "Python 3",
   "language": "python",
   "name": "python3"
  },
  "language_info": {
   "codemirror_mode": {
    "name": "ipython",
    "version": 3
   },
   "file_extension": ".py",
   "mimetype": "text/x-python",
   "name": "python",
   "nbconvert_exporter": "python",
   "pygments_lexer": "ipython3",
   "version": "3.6.6"
  }
 },
 "nbformat": 4,
 "nbformat_minor": 2
}
